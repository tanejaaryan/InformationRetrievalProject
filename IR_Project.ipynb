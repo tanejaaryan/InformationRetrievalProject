{
  "cells": [
    {
      "cell_type": "code",
      "source": [
        "import numpy as np\n",
        "import pandas as pd\n",
        "import matplotlib.pyplot as plt\n",
        "import seaborn as sns\n",
        "from wordcloud import WordCloud\n",
        "from sklearn.feature_extraction.text import TfidfVectorizer\n",
        "from sklearn.feature_extraction.text import CountVectorizer\n",
        "from sklearn.feature_extraction.text import HashingVectorizer\n",
        "# from sklearn.feature_extraction.text import word2vec\n",
        "from sklearn.metrics.pairwise import linear_kernel\n",
        "# url = '../input/coursera-courses-dataset-2021/Coursera.csv'\n",
        "df = pd.read_csv(\"Coursera.csv\")\n",
        "df.head()"
      ],
      "metadata": {
        "colab": {
          "base_uri": "https://localhost:8080/",
          "height": 424
        },
        "id": "DC3cMICAYIxw",
        "outputId": "f9fd2593-bdb0-484e-8bba-59dc53bd7326"
      },
      "execution_count": 10,
      "outputs": [
        {
          "output_type": "execute_result",
          "data": {
            "text/plain": [
              "                                         Course Name  \\\n",
              "0  Write A Feature Length Screenplay For Film Or ...   \n",
              "1  Business Strategy: Business Model Canvas Analy...   \n",
              "2                      Silicon Thin Film Solar Cells   \n",
              "3                               Finance for Managers   \n",
              "4       Retrieve Data using Single-Table SQL Queries   \n",
              "\n",
              "                  University Difficulty Level Course Rating  \\\n",
              "0  Michigan State University         Beginner           4.8   \n",
              "1   Coursera Project Network         Beginner           4.8   \n",
              "2        �cole Polytechnique         Advanced           4.1   \n",
              "3       IESE Business School     Intermediate           4.8   \n",
              "4   Coursera Project Network         Beginner           4.6   \n",
              "\n",
              "                                          Course URL  \\\n",
              "0  https://www.coursera.org/learn/write-a-feature...   \n",
              "1  https://www.coursera.org/learn/canvas-analysis...   \n",
              "2  https://www.coursera.org/learn/silicon-thin-fi...   \n",
              "3  https://www.coursera.org/learn/operational-fin...   \n",
              "4  https://www.coursera.org/learn/single-table-sq...   \n",
              "\n",
              "                                  Course Description  \\\n",
              "0  Write a Full Length Feature Film Script  In th...   \n",
              "1  By the end of this guided project, you will be...   \n",
              "2  This course consists of a general presentation...   \n",
              "3  When it comes to numbers, there is always more...   \n",
              "4  In this course you�ll learn how to effectively...   \n",
              "\n",
              "                                              Skills  \n",
              "0  Drama  Comedy  peering  screenwriting  film  D...  \n",
              "1  Finance  business plan  persona (user experien...  \n",
              "2  chemistry  physics  Solar Energy  film  lambda...  \n",
              "3  accounts receivable  dupont analysis  analysis...  \n",
              "4  Data Analysis  select (sql)  database manageme...  "
            ],
            "text/html": [
              "\n",
              "  <div id=\"df-901b1905-1367-4a59-91bb-b7ae96073cec\">\n",
              "    <div class=\"colab-df-container\">\n",
              "      <div>\n",
              "<style scoped>\n",
              "    .dataframe tbody tr th:only-of-type {\n",
              "        vertical-align: middle;\n",
              "    }\n",
              "\n",
              "    .dataframe tbody tr th {\n",
              "        vertical-align: top;\n",
              "    }\n",
              "\n",
              "    .dataframe thead th {\n",
              "        text-align: right;\n",
              "    }\n",
              "</style>\n",
              "<table border=\"1\" class=\"dataframe\">\n",
              "  <thead>\n",
              "    <tr style=\"text-align: right;\">\n",
              "      <th></th>\n",
              "      <th>Course Name</th>\n",
              "      <th>University</th>\n",
              "      <th>Difficulty Level</th>\n",
              "      <th>Course Rating</th>\n",
              "      <th>Course URL</th>\n",
              "      <th>Course Description</th>\n",
              "      <th>Skills</th>\n",
              "    </tr>\n",
              "  </thead>\n",
              "  <tbody>\n",
              "    <tr>\n",
              "      <th>0</th>\n",
              "      <td>Write A Feature Length Screenplay For Film Or ...</td>\n",
              "      <td>Michigan State University</td>\n",
              "      <td>Beginner</td>\n",
              "      <td>4.8</td>\n",
              "      <td>https://www.coursera.org/learn/write-a-feature...</td>\n",
              "      <td>Write a Full Length Feature Film Script  In th...</td>\n",
              "      <td>Drama  Comedy  peering  screenwriting  film  D...</td>\n",
              "    </tr>\n",
              "    <tr>\n",
              "      <th>1</th>\n",
              "      <td>Business Strategy: Business Model Canvas Analy...</td>\n",
              "      <td>Coursera Project Network</td>\n",
              "      <td>Beginner</td>\n",
              "      <td>4.8</td>\n",
              "      <td>https://www.coursera.org/learn/canvas-analysis...</td>\n",
              "      <td>By the end of this guided project, you will be...</td>\n",
              "      <td>Finance  business plan  persona (user experien...</td>\n",
              "    </tr>\n",
              "    <tr>\n",
              "      <th>2</th>\n",
              "      <td>Silicon Thin Film Solar Cells</td>\n",
              "      <td>�cole Polytechnique</td>\n",
              "      <td>Advanced</td>\n",
              "      <td>4.1</td>\n",
              "      <td>https://www.coursera.org/learn/silicon-thin-fi...</td>\n",
              "      <td>This course consists of a general presentation...</td>\n",
              "      <td>chemistry  physics  Solar Energy  film  lambda...</td>\n",
              "    </tr>\n",
              "    <tr>\n",
              "      <th>3</th>\n",
              "      <td>Finance for Managers</td>\n",
              "      <td>IESE Business School</td>\n",
              "      <td>Intermediate</td>\n",
              "      <td>4.8</td>\n",
              "      <td>https://www.coursera.org/learn/operational-fin...</td>\n",
              "      <td>When it comes to numbers, there is always more...</td>\n",
              "      <td>accounts receivable  dupont analysis  analysis...</td>\n",
              "    </tr>\n",
              "    <tr>\n",
              "      <th>4</th>\n",
              "      <td>Retrieve Data using Single-Table SQL Queries</td>\n",
              "      <td>Coursera Project Network</td>\n",
              "      <td>Beginner</td>\n",
              "      <td>4.6</td>\n",
              "      <td>https://www.coursera.org/learn/single-table-sq...</td>\n",
              "      <td>In this course you�ll learn how to effectively...</td>\n",
              "      <td>Data Analysis  select (sql)  database manageme...</td>\n",
              "    </tr>\n",
              "  </tbody>\n",
              "</table>\n",
              "</div>\n",
              "      <button class=\"colab-df-convert\" onclick=\"convertToInteractive('df-901b1905-1367-4a59-91bb-b7ae96073cec')\"\n",
              "              title=\"Convert this dataframe to an interactive table.\"\n",
              "              style=\"display:none;\">\n",
              "        \n",
              "  <svg xmlns=\"http://www.w3.org/2000/svg\" height=\"24px\"viewBox=\"0 0 24 24\"\n",
              "       width=\"24px\">\n",
              "    <path d=\"M0 0h24v24H0V0z\" fill=\"none\"/>\n",
              "    <path d=\"M18.56 5.44l.94 2.06.94-2.06 2.06-.94-2.06-.94-.94-2.06-.94 2.06-2.06.94zm-11 1L8.5 8.5l.94-2.06 2.06-.94-2.06-.94L8.5 2.5l-.94 2.06-2.06.94zm10 10l.94 2.06.94-2.06 2.06-.94-2.06-.94-.94-2.06-.94 2.06-2.06.94z\"/><path d=\"M17.41 7.96l-1.37-1.37c-.4-.4-.92-.59-1.43-.59-.52 0-1.04.2-1.43.59L10.3 9.45l-7.72 7.72c-.78.78-.78 2.05 0 2.83L4 21.41c.39.39.9.59 1.41.59.51 0 1.02-.2 1.41-.59l7.78-7.78 2.81-2.81c.8-.78.8-2.07 0-2.86zM5.41 20L4 18.59l7.72-7.72 1.47 1.35L5.41 20z\"/>\n",
              "  </svg>\n",
              "      </button>\n",
              "      \n",
              "  <style>\n",
              "    .colab-df-container {\n",
              "      display:flex;\n",
              "      flex-wrap:wrap;\n",
              "      gap: 12px;\n",
              "    }\n",
              "\n",
              "    .colab-df-convert {\n",
              "      background-color: #E8F0FE;\n",
              "      border: none;\n",
              "      border-radius: 50%;\n",
              "      cursor: pointer;\n",
              "      display: none;\n",
              "      fill: #1967D2;\n",
              "      height: 32px;\n",
              "      padding: 0 0 0 0;\n",
              "      width: 32px;\n",
              "    }\n",
              "\n",
              "    .colab-df-convert:hover {\n",
              "      background-color: #E2EBFA;\n",
              "      box-shadow: 0px 1px 2px rgba(60, 64, 67, 0.3), 0px 1px 3px 1px rgba(60, 64, 67, 0.15);\n",
              "      fill: #174EA6;\n",
              "    }\n",
              "\n",
              "    [theme=dark] .colab-df-convert {\n",
              "      background-color: #3B4455;\n",
              "      fill: #D2E3FC;\n",
              "    }\n",
              "\n",
              "    [theme=dark] .colab-df-convert:hover {\n",
              "      background-color: #434B5C;\n",
              "      box-shadow: 0px 1px 3px 1px rgba(0, 0, 0, 0.15);\n",
              "      filter: drop-shadow(0px 1px 2px rgba(0, 0, 0, 0.3));\n",
              "      fill: #FFFFFF;\n",
              "    }\n",
              "  </style>\n",
              "\n",
              "      <script>\n",
              "        const buttonEl =\n",
              "          document.querySelector('#df-901b1905-1367-4a59-91bb-b7ae96073cec button.colab-df-convert');\n",
              "        buttonEl.style.display =\n",
              "          google.colab.kernel.accessAllowed ? 'block' : 'none';\n",
              "\n",
              "        async function convertToInteractive(key) {\n",
              "          const element = document.querySelector('#df-901b1905-1367-4a59-91bb-b7ae96073cec');\n",
              "          const dataTable =\n",
              "            await google.colab.kernel.invokeFunction('convertToInteractive',\n",
              "                                                     [key], {});\n",
              "          if (!dataTable) return;\n",
              "\n",
              "          const docLinkHtml = 'Like what you see? Visit the ' +\n",
              "            '<a target=\"_blank\" href=https://colab.research.google.com/notebooks/data_table.ipynb>data table notebook</a>'\n",
              "            + ' to learn more about interactive tables.';\n",
              "          element.innerHTML = '';\n",
              "          dataTable['output_type'] = 'display_data';\n",
              "          await google.colab.output.renderOutput(dataTable, element);\n",
              "          const docLink = document.createElement('div');\n",
              "          docLink.innerHTML = docLinkHtml;\n",
              "          element.appendChild(docLink);\n",
              "        }\n",
              "      </script>\n",
              "    </div>\n",
              "  </div>\n",
              "  "
            ]
          },
          "metadata": {},
          "execution_count": 10
        }
      ]
    },
    {
      "cell_type": "code",
      "source": [
        "uc = ['Course URL','University']  # uc means useless columns\n",
        "df = df.drop(columns=uc)\n",
        "df.head()"
      ],
      "metadata": {
        "colab": {
          "base_uri": "https://localhost:8080/",
          "height": 354
        },
        "id": "LLDJhzQCZmxB",
        "outputId": "90845e81-fbaa-4fda-a70a-9c6415da2e6d"
      },
      "execution_count": null,
      "outputs": [
        {
          "output_type": "execute_result",
          "data": {
            "text/plain": [
              "                                         Course Name Difficulty Level  \\\n",
              "0  Write A Feature Length Screenplay For Film Or ...         Beginner   \n",
              "1  Business Strategy: Business Model Canvas Analy...         Beginner   \n",
              "2                      Silicon Thin Film Solar Cells         Advanced   \n",
              "3                               Finance for Managers     Intermediate   \n",
              "4       Retrieve Data using Single-Table SQL Queries         Beginner   \n",
              "\n",
              "  Course Rating                                 Course Description  \\\n",
              "0           4.8  Write a Full Length Feature Film Script  In th...   \n",
              "1           4.8  By the end of this guided project, you will be...   \n",
              "2           4.1  This course consists of a general presentation...   \n",
              "3           4.8  When it comes to numbers, there is always more...   \n",
              "4           4.6  In this course you�ll learn how to effectively...   \n",
              "\n",
              "                                              Skills  \n",
              "0  Drama  Comedy  peering  screenwriting  film  D...  \n",
              "1  Finance  business plan  persona (user experien...  \n",
              "2  chemistry  physics  Solar Energy  film  lambda...  \n",
              "3  accounts receivable  dupont analysis  analysis...  \n",
              "4  Data Analysis  select (sql)  database manageme...  "
            ],
            "text/html": [
              "\n",
              "  <div id=\"df-c28f2370-1c96-4fb4-8359-d0d8abdda6a8\">\n",
              "    <div class=\"colab-df-container\">\n",
              "      <div>\n",
              "<style scoped>\n",
              "    .dataframe tbody tr th:only-of-type {\n",
              "        vertical-align: middle;\n",
              "    }\n",
              "\n",
              "    .dataframe tbody tr th {\n",
              "        vertical-align: top;\n",
              "    }\n",
              "\n",
              "    .dataframe thead th {\n",
              "        text-align: right;\n",
              "    }\n",
              "</style>\n",
              "<table border=\"1\" class=\"dataframe\">\n",
              "  <thead>\n",
              "    <tr style=\"text-align: right;\">\n",
              "      <th></th>\n",
              "      <th>Course Name</th>\n",
              "      <th>Difficulty Level</th>\n",
              "      <th>Course Rating</th>\n",
              "      <th>Course Description</th>\n",
              "      <th>Skills</th>\n",
              "    </tr>\n",
              "  </thead>\n",
              "  <tbody>\n",
              "    <tr>\n",
              "      <th>0</th>\n",
              "      <td>Write A Feature Length Screenplay For Film Or ...</td>\n",
              "      <td>Beginner</td>\n",
              "      <td>4.8</td>\n",
              "      <td>Write a Full Length Feature Film Script  In th...</td>\n",
              "      <td>Drama  Comedy  peering  screenwriting  film  D...</td>\n",
              "    </tr>\n",
              "    <tr>\n",
              "      <th>1</th>\n",
              "      <td>Business Strategy: Business Model Canvas Analy...</td>\n",
              "      <td>Beginner</td>\n",
              "      <td>4.8</td>\n",
              "      <td>By the end of this guided project, you will be...</td>\n",
              "      <td>Finance  business plan  persona (user experien...</td>\n",
              "    </tr>\n",
              "    <tr>\n",
              "      <th>2</th>\n",
              "      <td>Silicon Thin Film Solar Cells</td>\n",
              "      <td>Advanced</td>\n",
              "      <td>4.1</td>\n",
              "      <td>This course consists of a general presentation...</td>\n",
              "      <td>chemistry  physics  Solar Energy  film  lambda...</td>\n",
              "    </tr>\n",
              "    <tr>\n",
              "      <th>3</th>\n",
              "      <td>Finance for Managers</td>\n",
              "      <td>Intermediate</td>\n",
              "      <td>4.8</td>\n",
              "      <td>When it comes to numbers, there is always more...</td>\n",
              "      <td>accounts receivable  dupont analysis  analysis...</td>\n",
              "    </tr>\n",
              "    <tr>\n",
              "      <th>4</th>\n",
              "      <td>Retrieve Data using Single-Table SQL Queries</td>\n",
              "      <td>Beginner</td>\n",
              "      <td>4.6</td>\n",
              "      <td>In this course you�ll learn how to effectively...</td>\n",
              "      <td>Data Analysis  select (sql)  database manageme...</td>\n",
              "    </tr>\n",
              "  </tbody>\n",
              "</table>\n",
              "</div>\n",
              "      <button class=\"colab-df-convert\" onclick=\"convertToInteractive('df-c28f2370-1c96-4fb4-8359-d0d8abdda6a8')\"\n",
              "              title=\"Convert this dataframe to an interactive table.\"\n",
              "              style=\"display:none;\">\n",
              "        \n",
              "  <svg xmlns=\"http://www.w3.org/2000/svg\" height=\"24px\"viewBox=\"0 0 24 24\"\n",
              "       width=\"24px\">\n",
              "    <path d=\"M0 0h24v24H0V0z\" fill=\"none\"/>\n",
              "    <path d=\"M18.56 5.44l.94 2.06.94-2.06 2.06-.94-2.06-.94-.94-2.06-.94 2.06-2.06.94zm-11 1L8.5 8.5l.94-2.06 2.06-.94-2.06-.94L8.5 2.5l-.94 2.06-2.06.94zm10 10l.94 2.06.94-2.06 2.06-.94-2.06-.94-.94-2.06-.94 2.06-2.06.94z\"/><path d=\"M17.41 7.96l-1.37-1.37c-.4-.4-.92-.59-1.43-.59-.52 0-1.04.2-1.43.59L10.3 9.45l-7.72 7.72c-.78.78-.78 2.05 0 2.83L4 21.41c.39.39.9.59 1.41.59.51 0 1.02-.2 1.41-.59l7.78-7.78 2.81-2.81c.8-.78.8-2.07 0-2.86zM5.41 20L4 18.59l7.72-7.72 1.47 1.35L5.41 20z\"/>\n",
              "  </svg>\n",
              "      </button>\n",
              "      \n",
              "  <style>\n",
              "    .colab-df-container {\n",
              "      display:flex;\n",
              "      flex-wrap:wrap;\n",
              "      gap: 12px;\n",
              "    }\n",
              "\n",
              "    .colab-df-convert {\n",
              "      background-color: #E8F0FE;\n",
              "      border: none;\n",
              "      border-radius: 50%;\n",
              "      cursor: pointer;\n",
              "      display: none;\n",
              "      fill: #1967D2;\n",
              "      height: 32px;\n",
              "      padding: 0 0 0 0;\n",
              "      width: 32px;\n",
              "    }\n",
              "\n",
              "    .colab-df-convert:hover {\n",
              "      background-color: #E2EBFA;\n",
              "      box-shadow: 0px 1px 2px rgba(60, 64, 67, 0.3), 0px 1px 3px 1px rgba(60, 64, 67, 0.15);\n",
              "      fill: #174EA6;\n",
              "    }\n",
              "\n",
              "    [theme=dark] .colab-df-convert {\n",
              "      background-color: #3B4455;\n",
              "      fill: #D2E3FC;\n",
              "    }\n",
              "\n",
              "    [theme=dark] .colab-df-convert:hover {\n",
              "      background-color: #434B5C;\n",
              "      box-shadow: 0px 1px 3px 1px rgba(0, 0, 0, 0.15);\n",
              "      filter: drop-shadow(0px 1px 2px rgba(0, 0, 0, 0.3));\n",
              "      fill: #FFFFFF;\n",
              "    }\n",
              "  </style>\n",
              "\n",
              "      <script>\n",
              "        const buttonEl =\n",
              "          document.querySelector('#df-c28f2370-1c96-4fb4-8359-d0d8abdda6a8 button.colab-df-convert');\n",
              "        buttonEl.style.display =\n",
              "          google.colab.kernel.accessAllowed ? 'block' : 'none';\n",
              "\n",
              "        async function convertToInteractive(key) {\n",
              "          const element = document.querySelector('#df-c28f2370-1c96-4fb4-8359-d0d8abdda6a8');\n",
              "          const dataTable =\n",
              "            await google.colab.kernel.invokeFunction('convertToInteractive',\n",
              "                                                     [key], {});\n",
              "          if (!dataTable) return;\n",
              "\n",
              "          const docLinkHtml = 'Like what you see? Visit the ' +\n",
              "            '<a target=\"_blank\" href=https://colab.research.google.com/notebooks/data_table.ipynb>data table notebook</a>'\n",
              "            + ' to learn more about interactive tables.';\n",
              "          element.innerHTML = '';\n",
              "          dataTable['output_type'] = 'display_data';\n",
              "          await google.colab.output.renderOutput(dataTable, element);\n",
              "          const docLink = document.createElement('div');\n",
              "          docLink.innerHTML = docLinkHtml;\n",
              "          element.appendChild(docLink);\n",
              "        }\n",
              "      </script>\n",
              "    </div>\n",
              "  </div>\n",
              "  "
            ]
          },
          "metadata": {},
          "execution_count": 3
        }
      ]
    },
    {
      "cell_type": "code",
      "source": [
        "cv=TfidfVectorizer()\n",
        "tfidf_matrix=cv.fit_transform(df['Course Name'])\n",
        "course_user = df.pivot_table(columns='Course Name',values='Course Rating')\n",
        "course_user.head()\n",
        "\n",
        "cosine_sim = linear_kernel(tfidf_matrix, tfidf_matrix)\n",
        "indices=pd.Series(df.index,index=df['Course Name'])\n",
        "titles=df['Course Name']\n",
        "def recommendations(course_title):\n",
        "    idx = indices[course_title]\n",
        "    sim_scores = list(enumerate(cosine_sim[idx]))\n",
        "    sim_scores = sorted(sim_scores, key=lambda x: x[1], reverse=True)\n",
        "    sim_scores = sim_scores[1:11]\n",
        "    course_indices = [i[0] for i in sim_scores]\n",
        "    return titles.iloc[course_indices]\n",
        "print(\"--------------- Similar courses to your search --------------:\\n\")\n",
        "recommendations('Retrieve Data using Single-Table SQL Queries')"
      ],
      "metadata": {
        "colab": {
          "base_uri": "https://localhost:8080/"
        },
        "id": "WOSAVkvcZ8zO",
        "outputId": "1b9f81cb-bac8-4c38-e120-ad8df9d98498"
      },
      "execution_count": 16,
      "outputs": [
        {
          "output_type": "stream",
          "name": "stdout",
          "text": [
            "--------------- Similar courses to your search --------------:\n",
            "\n"
          ]
        },
        {
          "output_type": "stream",
          "name": "stderr",
          "text": [
            "/usr/local/lib/python3.7/dist-packages/pandas/core/apply.py:507: FutureWarning: Dropping invalid columns in DataFrameGroupBy.mean is deprecated. In a future version, a TypeError will be raised. Before calling .mean, select only columns which should be valid for the function.\n",
            "  return self._try_aggregate_string_function(obj, f, *self.args, **self.kwargs)\n"
          ]
        },
        {
          "output_type": "execute_result",
          "data": {
            "text/plain": [
              "3272        Retrieve Data with Multiple-Table SQL Queries\n",
              "1162       Advanced SQL Retrieval Queries in SQLiteStudio\n",
              "1580                                 SQL for Data Science\n",
              "3482                SQL for Data Science Capstone Project\n",
              "2892                           Manipulating Data with SQL\n",
              "2611                          Analyzing Big Data with SQL\n",
              "2934    How to Design a Space-Saving Table Using SketchUp\n",
              "1033                   Databases and SQL for Data Science\n",
              "1379                   Databases and SQL for Data Science\n",
              "1380                   Databases and SQL for Data Science\n",
              "Name: Course Name, dtype: object"
            ]
          },
          "metadata": {},
          "execution_count": 16
        }
      ]
    },
    {
      "cell_type": "code",
      "source": [
        "cv=CountVectorizer()\n",
        "tfidf_matrix=cv.fit_transform(df['Course Name'])\n",
        "course_user = df.pivot_table(columns='Course Name',values='Course Rating')\n",
        "course_user.head()\n",
        "\n",
        "cosine_sim = linear_kernel(tfidf_matrix, tfidf_matrix)\n",
        "indices=pd.Series(df.index,index=df['Course Name'])\n",
        "titles=df['Course Name']\n",
        "def recommendations(course_title):\n",
        "    idx = indices[course_title]\n",
        "    sim_scores = list(enumerate(cosine_sim[idx]))\n",
        "    sim_scores = sorted(sim_scores, key=lambda x: x[1], reverse=True)\n",
        "    sim_scores = sim_scores[1:11]\n",
        "    course_indices = [i[0] for i in sim_scores]\n",
        "    return titles.iloc[course_indices]\n",
        "print(\"--------------- Similar courses to your search --------------:\\n\")\n",
        "recommendations('Write A Feature Length Screenplay For Film Or Television')"
      ],
      "metadata": {
        "id": "lClaORtD33_C",
        "colab": {
          "base_uri": "https://localhost:8080/"
        },
        "outputId": "86b76efe-80e6-4364-fb7a-c4186ea0bdbd"
      },
      "execution_count": null,
      "outputs": [
        {
          "output_type": "stream",
          "name": "stdout",
          "text": [
            "--------------- Similar courses to your search --------------:\n",
            "\n"
          ]
        },
        {
          "output_type": "stream",
          "name": "stderr",
          "text": [
            "/usr/local/lib/python3.7/dist-packages/pandas/core/apply.py:507: FutureWarning: Dropping invalid columns in DataFrameGroupBy.mean is deprecated. In a future version, a TypeError will be raised. Before calling .mean, select only columns which should be valid for the function.\n",
            "  return self._try_aggregate_string_function(obj, f, *self.args, **self.kwargs)\n"
          ]
        },
        {
          "output_type": "execute_result",
          "data": {
            "text/plain": [
              "1481    Script Writing: Write a Pilot Episode for a TV...\n",
              "149                      Scandinavian Film and Television\n",
              "828     Crafting Strategies for Innovation Initiatives...\n",
              "2060    Business Models for Innovative Care for Older ...\n",
              "2941    Foundations of Teaching for Learning: Planning...\n",
              "2957    Preparing for Graduate Study in the U.S.: A co...\n",
              "2                           Silicon Thin Film Solar Cells\n",
              "3                                    Finance for Managers\n",
              "23      Preparing for the Google Cloud Professional Da...\n",
              "47      Programming Mobile Applications for Android Ha...\n",
              "Name: Course Name, dtype: object"
            ]
          },
          "metadata": {},
          "execution_count": 7
        }
      ]
    },
    {
      "cell_type": "code",
      "source": [
        ""
      ],
      "metadata": {
        "id": "EGE6EwSa35Th",
        "colab": {
          "base_uri": "https://localhost:8080/"
        },
        "outputId": "9b7506e7-0c95-4e14-dd48-55e6f3e62872"
      },
      "execution_count": null,
      "outputs": [
        {
          "output_type": "stream",
          "name": "stdout",
          "text": [
            "--------------- Similar courses to your search --------------:\n",
            "\n"
          ]
        },
        {
          "output_type": "stream",
          "name": "stderr",
          "text": [
            "/usr/local/lib/python3.7/dist-packages/pandas/core/apply.py:507: FutureWarning: Dropping invalid columns in DataFrameGroupBy.mean is deprecated. In a future version, a TypeError will be raised. Before calling .mean, select only columns which should be valid for the function.\n",
            "  return self._try_aggregate_string_function(obj, f, *self.args, **self.kwargs)\n"
          ]
        },
        {
          "output_type": "execute_result",
          "data": {
            "text/plain": [
              "149                      Scandinavian Film and Television\n",
              "1481    Script Writing: Write a Pilot Episode for a TV...\n",
              "2485                                  Feature Engineering\n",
              "828     Crafting Strategies for Innovation Initiatives...\n",
              "2060    Business Models for Innovative Care for Older ...\n",
              "3                                    Finance for Managers\n",
              "64                               Japanese for beginners 2\n",
              "194                                      Genomics for Law\n",
              "267                                      Java for Android\n",
              "684                                     Chinese for HSK 2\n",
              "Name: Course Name, dtype: object"
            ]
          },
          "metadata": {},
          "execution_count": 8
        }
      ]
    },
    {
      "cell_type": "markdown",
      "metadata": {
        "id": "eeVz8CL0lsY6"
      },
      "source": [
        "# Get Data"
      ]
    },
    {
      "cell_type": "code",
      "execution_count": null,
      "metadata": {
        "id": "GXcC_CKLlez-"
      },
      "outputs": [],
      "source": [
        "import csv\n",
        "import numpy as np\n",
        "\n",
        "def get_data(file_path):\n",
        "  '''Reads file from file_path and returns a 2D list'''\n",
        "  with open(file_path) as f:\n",
        "    reader = csv.reader(f, delimiter=\"\\t\")  # generate matrix of user data\n",
        "    return np.array(list(reader))\n",
        "\n",
        "def get_matrix(data):\n",
        "  '''Takes a 2D array and returns a \n",
        "  numpy array with items as rows and users as columns'''\n",
        "  cf_matrix = {} # keys are item ids and values are user ratings\n",
        "  max_id = 1682\n",
        "\n",
        "  for row in data:\n",
        "    user_id = int(row[0])\n",
        "    item_id = int(row[1])\n",
        "    user_rating = int(row[2])\n",
        "\n",
        "    if item_id > max_id:\n",
        "      max_id = item_id\n",
        "\n",
        "    item_ratings = []\n",
        "    if item_id in cf_matrix.keys():\n",
        "      item_ratings = cf_matrix[item_id]\n",
        "\n",
        "    item_ratings.extend([0] * (user_id - (len(item_ratings) + 1)))  # set missing ratings as zero\n",
        "    item_ratings.append(user_rating)\n",
        "\n",
        "\n",
        "    cf_matrix[item_id] = item_ratings\n",
        "\n",
        "  TOTAL_USERS = int(data[-1][0])  # user_id of last user\n",
        "  for item_id in cf_matrix.keys():\n",
        "    cf_matrix[item_id].extend([0] * (TOTAL_USERS - len(cf_matrix[item_id])))\n",
        "  \n",
        "  matrix = []\n",
        "  for i in range(1, max_id+1):\n",
        "    if i in cf_matrix.keys():\n",
        "      matrix.append(cf_matrix[i])\n",
        "    else:\n",
        "      matrix.append([0] * TOTAL_USERS)\n",
        "\n",
        "  return np.array(matrix)"
      ]
    },
    {
      "cell_type": "markdown",
      "metadata": {
        "id": "lI43jsPvnHrf"
      },
      "source": [
        "# Calculate Similarity"
      ]
    },
    {
      "cell_type": "code",
      "execution_count": null,
      "metadata": {
        "id": "5sZlq2r2nKWc"
      },
      "outputs": [],
      "source": [
        "from numpy.linalg import norm\n",
        "\n",
        "def calc_cosine_similarity(v1, v2):\n",
        "  num = np.dot(v1, v2)\n",
        "  denom = norm(v1) * norm(v2)\n",
        "\n",
        "  if num == 0:\n",
        "    return 0\n",
        "  return np.dot(v1, v2)/(norm(v1) * norm(v2))\n",
        "\n",
        "def calc_similarity_matrix(data):\n",
        "  '''Given a numpy array, calculates cosine similarity\n",
        "  between all rows. Returns a 2D matrix of similarities'''\n",
        "\n",
        "  similarity = [[[0, 0]]* (data.shape[0]+1) for i in range(data.shape[0]+1)]\n",
        "  # first index for similarity and second for the id of the item it is compared with\n",
        "  \n",
        "  for i in range(data.shape[0]):\n",
        "    for j in range(i+1, data.shape[0]):\n",
        "      similarity[i+1][j+1] = [calc_cosine_similarity(data[i], data[j]), j+1]\n",
        "      similarity[j+1][i+1] = [similarity[i+1][j+1][0], i+1]\n",
        "\n",
        "    def sort_obj(obj):\n",
        "      '''Comparator func'''\n",
        "      return obj[0]\n",
        "    similarity[i+1].sort(key=sort_obj, reverse=True) # sort similarities in descending order\n",
        "  \n",
        "  return similarity"
      ]
    },
    {
      "cell_type": "markdown",
      "metadata": {
        "id": "PQaZ3gJ-oC97"
      },
      "source": [
        "# Predict Rating"
      ]
    },
    {
      "cell_type": "code",
      "execution_count": null,
      "metadata": {
        "id": "MbcSYIthn_rI"
      },
      "outputs": [],
      "source": [
        "'''\n",
        "--> Predection func for item based RS\n",
        "def predict_item_rating(user_id, item_id, similarity_matrix, user_matrix, k):\n",
        "  num = 0\n",
        "  denom = 0\n",
        "  similarity_list = similarity_matrix[item_id]\n",
        "\n",
        "  items = 0\n",
        "  index = 0\n",
        "  while items < k and index < len(similarity_list):\n",
        "    similarity = similarity_list[index]\n",
        "    rating = int(user_matrix[user_id-1][similarity[1]-1])\n",
        "    if rating > 0:\n",
        "      # consider correlated items only\n",
        "      num += similarity[0] * float(rating)\n",
        "      denom += similarity[0]\n",
        "      items += 1\n",
        "    index += 1\n",
        "  return num / denom\n",
        "'''\n",
        "\n",
        "'''\n",
        "--> Predection func for user based RS\n",
        "def predict_user_matrix(user_id, item_id, similarity_matrix, item_matrix, k):\n",
        "  num = 0\n",
        "  denom = 0\n",
        "  similarity_list = similarity_matrix[user_id]\n",
        "\n",
        "  users = 0\n",
        "  index = 0\n",
        "  while users < k and index < len(similarity_list):\n",
        "    similarity = similarity_list[index]\n",
        "    rating = int(item_matrix[item_id-1][similarity[1]-1])\n",
        "    if rating > 0:\n",
        "      # consider correlated items only\n",
        "      num += similarity[0] * float(rating)\n",
        "      denom += similarity[0]\n",
        "      users += 1\n",
        "    index += 1\n",
        "  return num / denom\n",
        "'''\n",
        "\n",
        "def predict_rating(active_row, active_col, similarity_matrix, ratings_matrix, k):\n",
        "  '''Common prediction func for item-based and user-based RS'''\n",
        "  num = 0\n",
        "  denom = 0\n",
        "  # print(len(similarity_matrix), len(similarity_matrix[0]), active_row)\n",
        "  # if active_row >= len(similarity_matrix):\n",
        "  #   return 0\n",
        "  similarity_list = similarity_matrix[active_row]\n",
        "\n",
        "  neighbour_count = 0\n",
        "  index = 0\n",
        "  while neighbour_count < k and index < len(similarity_list):\n",
        "    similarity = similarity_list[index]\n",
        "    # if active_col >= len(ratings_matrix):\n",
        "    #   rating = 0\n",
        "    # else:\n",
        "    rating = int(ratings_matrix[active_col-1][similarity[1]-1])\n",
        "    if rating > 0:\n",
        "      # consider correlated items only\n",
        "      num += similarity[0] * float(rating)\n",
        "      denom += similarity[0]\n",
        "      neighbour_count += 1\n",
        "    index += 1\n",
        "  if denom == 0:\n",
        "    return 0\n",
        "  return num / denom        "
      ]
    },
    {
      "cell_type": "markdown",
      "metadata": {
        "id": "1KTxQuewpQGn"
      },
      "source": [
        "# Main"
      ]
    },
    {
      "cell_type": "code",
      "execution_count": null,
      "metadata": {
        "id": "HsamFNu_u-PG"
      },
      "outputs": [],
      "source": [
        "from sklearn.metrics import mean_absolute_error as mae\n",
        "\n",
        "TRAINING_FILES = ['u1.base', 'u2.base', 'u3.base', 'u4.base', 'u5.base']\n",
        "TESTING_FILES = ['u1.test', 'u2.test', 'u3.test', 'u4.test', 'u5.test']\n",
        "NEIGHBOUR_NUM = [10, 20, 30, 40, 50]\n",
        "\n",
        "item_based_error = []\n",
        "user_based_error = []\n",
        "\n",
        "item_similarity_folds = []\n",
        "user_similarity_folds = []\n",
        "\n",
        "item_folds = []\n",
        "user_folds = []\n",
        "\n",
        "for file_num in range(len(TRAINING_FILES)):\n",
        "  TRAINING_FILE_PATH = 'ml-100k/' + TRAINING_FILES[file_num]\n",
        "  data = get_data(TRAINING_FILE_PATH)\n",
        "\n",
        "  item_matrix = get_matrix(data)\n",
        "  user_matrix = item_matrix.transpose()\n",
        "\n",
        "  item_folds.append(item_matrix)\n",
        "  user_folds.append(user_matrix)\n",
        "\n",
        "  item_sim_matrix = calc_similarity_matrix(item_matrix)\n",
        "  user_sim_matrix = calc_similarity_matrix(user_matrix)\n",
        "\n",
        "  item_similarity_folds.append(item_sim_matrix)\n",
        "  user_similarity_folds.append(user_sim_matrix)\n",
        "\n",
        "  TEST_FILE_PATH = 'ml-100k/' + TESTING_FILES[file_num]\n",
        "  test_data = get_data(TEST_FILE_PATH)\n",
        "\n",
        "  actual_ratings = []\n",
        "\n",
        "  item_predicted_ratings = []\n",
        "  user_predicted_ratings = []\n",
        "\n",
        "  item_fold_error = []\n",
        "  user_fold_error = []\n",
        "\n",
        "  for k in NEIGHBOUR_NUM:\n",
        "    for row in test_data:\n",
        "      item_based_predicted = predict_rating(int(row[1]), int(row[0]), item_sim_matrix, user_matrix, k)\n",
        "      item_predicted_ratings.append(item_based_predicted)\n",
        "\n",
        "      user_based_predicted = predict_rating(int(row[0]), int(row[1]), user_sim_matrix, item_matrix, k)\n",
        "      user_predicted_ratings.append(user_based_predicted) \n",
        "      \n",
        "      actual_ratings.append(float(row[2]))\n",
        "    item_fold_error.append(mae(actual_ratings, item_predicted_ratings)) \n",
        "    user_fold_error.append(mae(actual_ratings, user_predicted_ratings)) \n",
        "  \n",
        "  item_based_error.append(item_fold_error)\n",
        "  user_based_error.append(user_fold_error)"
      ]
    },
    {
      "cell_type": "code",
      "execution_count": null,
      "metadata": {
        "colab": {
          "base_uri": "https://localhost:8080/"
        },
        "id": "ENr0TmMi8t2h",
        "outputId": "9ba030eb-ea3b-46c5-986f-c5b4f6ef3efb"
      },
      "outputs": [
        {
          "data": {
            "text/plain": [
              "[[0.8283118125993926,\n",
              "  0.8231746914891255,\n",
              "  0.8213604034619338,\n",
              "  0.8203629447276014,\n",
              "  0.8198301033277907],\n",
              " [0.8183927115138278,\n",
              "  0.8134568041399882,\n",
              "  0.8113093639436633,\n",
              "  0.810415739418294,\n",
              "  0.8100386436271324],\n",
              " [0.815819932988674,\n",
              "  0.8103094351388532,\n",
              "  0.8077624204458156,\n",
              "  0.806506941874861,\n",
              "  0.8057089838273197],\n",
              " [0.8131688759740163,\n",
              "  0.8073930177778874,\n",
              "  0.8048646384548719,\n",
              "  0.8036236793845194,\n",
              "  0.8029883535731162],\n",
              " [0.8215148598819892,\n",
              "  0.8151443094785445,\n",
              "  0.8123160860837583,\n",
              "  0.811083330456688,\n",
              "  0.8103944514563489]]"
            ]
          },
          "execution_count": 6,
          "metadata": {},
          "output_type": "execute_result"
        }
      ],
      "source": [
        "user_based_error"
      ]
    },
    {
      "cell_type": "code",
      "execution_count": null,
      "metadata": {
        "colab": {
          "base_uri": "https://localhost:8080/"
        },
        "id": "MmHs1pCmNz6s",
        "outputId": "4dd4aec5-9f7f-4c23-9c70-c3398d280e54"
      },
      "outputs": [
        {
          "data": {
            "text/plain": [
              "[[0.7730155523957077,\n",
              "  0.7756318851697261,\n",
              "  0.7790058769672251,\n",
              "  0.7823862410922097,\n",
              "  0.7853933746133464],\n",
              " [0.7571833631673034,\n",
              "  0.759804210214566,\n",
              "  0.763420958698637,\n",
              "  0.7668930315982281,\n",
              "  0.7699964654826063],\n",
              " [0.755977173697978,\n",
              "  0.7570273147118183,\n",
              "  0.7594490190529796,\n",
              "  0.7618774955817617,\n",
              "  0.764241074957209],\n",
              " [0.7615681330154708,\n",
              "  0.7631666840755934,\n",
              "  0.7656940926270077,\n",
              "  0.7681623760373705,\n",
              "  0.7705468349293394],\n",
              " [0.7646978363071872,\n",
              "  0.7662664827306501,\n",
              "  0.7691756047367043,\n",
              "  0.7721795221954644,\n",
              "  0.7751080407026838]]"
            ]
          },
          "execution_count": 7,
          "metadata": {},
          "output_type": "execute_result"
        }
      ],
      "source": [
        "item_based_error"
      ]
    },
    {
      "cell_type": "code",
      "execution_count": null,
      "metadata": {
        "colab": {
          "base_uri": "https://localhost:8080/"
        },
        "id": "Wj12Gpj4C3b2",
        "outputId": "b4c45450-1b5d-49d7-886e-83f23efcecb6"
      },
      "outputs": [
        {
          "name": "stdout",
          "output_type": "stream",
          "text": [
            "K = 10\n",
            "Item based: 0.7624884117167294\n",
            "User based: 0.8194416385915799\n",
            "K = 20\n",
            "Item based: 0.7643793153804708\n",
            "User based: 0.8138956516048796\n",
            "K = 30\n",
            "Item based: 0.7673491104165108\n",
            "User based: 0.8115225824780087\n",
            "K = 40\n",
            "Item based: 0.7702997333010068\n",
            "User based: 0.8103985271723927\n",
            "K = 50\n",
            "Item based: 0.773057158137037\n",
            "User based: 0.8097921071623416\n"
          ]
        }
      ],
      "source": [
        "# calculate average\n",
        "for k in range(len(NEIGHBOUR_NUM)):\n",
        "  item_based_avg = 0\n",
        "  user_based_avg = 0\n",
        "  print(\"K =\", NEIGHBOUR_NUM[k])\n",
        "  for fold in range(len(TRAINING_FILES)):\n",
        "    item_based_avg += item_based_error[fold][k]\n",
        "    user_based_avg += user_based_error[fold][k]\n",
        "  print(\"Item based:\", str(item_based_avg/5))\n",
        "  print(\"User based:\", str(user_based_avg/5))"
      ]
    },
    {
      "cell_type": "markdown",
      "metadata": {
        "id": "tX5OHltcAFWY"
      },
      "source": [
        "# Variance Weighting"
      ]
    },
    {
      "cell_type": "code",
      "execution_count": null,
      "metadata": {
        "id": "XWyS0epkQXNE"
      },
      "outputs": [],
      "source": [
        "def variance_predict_rating(active_row, active_col, similarity_matrix, ratings_matrix, k, variance, min_var, max_var):\n",
        "  num = 0\n",
        "  denom = 0\n",
        "\n",
        "  similarity_list = similarity_matrix[active_row]\n",
        "\n",
        "  neighbour_count = 0\n",
        "  index = 0\n",
        "  while neighbour_count < k and index < len(similarity_list):\n",
        "    similarity = similarity_list[index]\n",
        "\n",
        "    rating = int(ratings_matrix[active_col-1][similarity[1]-1])\n",
        "    if rating > 0:\n",
        "      w = (variance[similarity[1]-1] - min_var) / (max_var - min_var)\n",
        "      # w = variance[similarity[1]-1]\n",
        "      # consider correlated items only\n",
        "      num += similarity[0] * float(rating) * w\n",
        "      denom += similarity[0] * w\n",
        "      neighbour_count += 1\n",
        "    index += 1\n",
        "  if denom == 0:\n",
        "    return 0\n",
        "  return num / denom     "
      ]
    },
    {
      "cell_type": "code",
      "execution_count": null,
      "metadata": {
        "id": "I6gZFn8YLSMf"
      },
      "outputs": [],
      "source": [
        "variance_error = []\n",
        "\n",
        "for file_num in range(len(TRAINING_FILES)):\n",
        "  item_var = []\n",
        "  max_var = 0\n",
        "  min_var = 10\n",
        "  for row in item_folds[file_num]:\n",
        "    var = np.var(row)\n",
        "    item_var.append(var)\n",
        "    if var < min_var:\n",
        "      min_var = var\n",
        "    if var > max_var:\n",
        "      max_var = var\n",
        "\n",
        "  variance_fold_error = []\n",
        "  variance_fold_predicted = []\n",
        "  actual_ratings = []\n",
        "  TEST_FILE_PATH = 'ml-100k/' + TESTING_FILES[file_num]\n",
        "  test_data = get_data(TEST_FILE_PATH)\n",
        "  for k in NEIGHBOUR_NUM:\n",
        "    for row in test_data:\n",
        "      variance_item_based_predicted = variance_predict_rating(int(row[1]), int(row[0]), item_similarity_folds[file_num], user_folds[file_num], k, item_var, min_var, max_var)\n",
        "      variance_fold_predicted.append(variance_item_based_predicted)\n",
        "      actual_ratings.append(float(row[2]))\n",
        "    variance_fold_error.append(mae(actual_ratings, variance_fold_predicted))\n",
        "  variance_error.append(variance_fold_error)"
      ]
    },
    {
      "cell_type": "code",
      "execution_count": null,
      "metadata": {
        "colab": {
          "base_uri": "https://localhost:8080/"
        },
        "id": "6aHln0F3U6dB",
        "outputId": "2506eb6b-37bb-4280-f41d-aa868fae0df2"
      },
      "outputs": [
        {
          "data": {
            "text/plain": [
              "[[0.8169649068636848,\n",
              "  0.8223000682114165,\n",
              "  0.8268302770640906,\n",
              "  0.8308038760801364,\n",
              "  0.8338861997794356],\n",
              " [0.7944935953893906,\n",
              "  0.7997813237651504,\n",
              "  0.8049378093000843,\n",
              "  0.8092958539642031,\n",
              "  0.8128000021446914],\n",
              " [0.7886049362314121,\n",
              "  0.7917296423868198,\n",
              "  0.7951416832597542,\n",
              "  0.7982411636954838,\n",
              "  0.8007307229057533],\n",
              " [0.7966897552449246,\n",
              "  0.8001538024300959,\n",
              "  0.8037257257058592,\n",
              "  0.8067662868574583,\n",
              "  0.8094756774678508],\n",
              " [0.7991376718602781,\n",
              "  0.8029673382532457,\n",
              "  0.8069727633478065,\n",
              "  0.8104477495935216,\n",
              "  0.8134451262206126]]"
            ]
          },
          "execution_count": 11,
          "metadata": {},
          "output_type": "execute_result"
        }
      ],
      "source": [
        "variance_error"
      ]
    },
    {
      "cell_type": "markdown",
      "metadata": {
        "id": "z9EfUrE0X378"
      },
      "source": [
        "# Significance Weighting"
      ]
    },
    {
      "cell_type": "code",
      "execution_count": null,
      "metadata": {
        "id": "ksW7dNYed0d0"
      },
      "outputs": [],
      "source": [
        "def calc_correlated(user_matrix):\n",
        "  corrated = [[0]* (len(user_matrix)+1) for i in range(len(user_matrix)+1)]\n",
        "\n",
        "  for i in range(len(user_matrix)):\n",
        "    for j in range(i+1, len(user_matrix)):\n",
        "      for index in range(len(user_matrix[i])):\n",
        "        if user_matrix[i][index] > 0 and user_matrix[j][index] > 0:\n",
        "          corrated[i+1][j+1] += 1\n",
        "          corrated[j+1][i+1] += 1\n",
        "  return corrated\n",
        "      "
      ]
    },
    {
      "cell_type": "code",
      "execution_count": null,
      "metadata": {
        "id": "7xlUrhPlcpRo"
      },
      "outputs": [],
      "source": [
        "def significance_predict_rating(active_row, active_col, similarity_matrix, ratings_matrix, k, corrated):\n",
        "  num = 0\n",
        "  denom = 0\n",
        "\n",
        "  similarity_list = similarity_matrix[active_row]\n",
        "\n",
        "  user_matrix = ratings_matrix.transpose()\n",
        "  T = len(ratings_matrix)\n",
        "  neighbour_count = 0\n",
        "  index = 0\n",
        "  while neighbour_count < k and index < len(similarity_list):\n",
        "    similarity = similarity_list[index]\n",
        "\n",
        "    rating = int(ratings_matrix[active_col-1][similarity[1]-1])\n",
        "    if rating > 0:\n",
        "      r_avg = np.mean(user_matrix[similarity[1]-1])\n",
        "      # consider correlated items only\n",
        "      ss = 1.0\n",
        "      if corrated[active_row][similarity[1]] < 50:\n",
        "        ss = corrated[active_row][similarity[1]]/ (T/50)\n",
        "      num += similarity[0] * float(rating) * ss\n",
        "      denom += similarity[0] *ss\n",
        "      neighbour_count += 1\n",
        "    index += 1\n",
        "  if denom == 0:\n",
        "    return 0\n",
        "  return num / denom   "
      ]
    },
    {
      "cell_type": "code",
      "execution_count": null,
      "metadata": {
        "colab": {
          "background_save": true
        },
        "id": "XKYQayCPmMv-",
        "outputId": "c2cf6547-1222-4bc5-ba84-8f1aaf636618"
      },
      "outputs": [
        {
          "name": "stdout",
          "output_type": "stream",
          "text": [
            "u1.base\n",
            "[[0.8295863385600891, 0.8243158012367443, 0.8224779713560528, 0.8214714300414527, 0.82093309077663]]\n",
            "u2.base\n",
            "[[0.8295863385600891, 0.8243158012367443, 0.8224779713560528, 0.8214714300414527, 0.82093309077663], [0.8196282708234106, 0.8146608076938497, 0.8124793980847173, 0.8115401152633728, 0.8111189189033616]]\n",
            "u3.base\n",
            "[[0.8295863385600891, 0.8243158012367443, 0.8224779713560528, 0.8214714300414527, 0.82093309077663], [0.8196282708234106, 0.8146608076938497, 0.8124793980847173, 0.8115401152633728, 0.8111189189033616], [0.8183213527761087, 0.812483356421091, 0.8098614167795987, 0.8085614406957782, 0.8077283613290098]]\n",
            "u4.base\n",
            "[[0.8295863385600891, 0.8243158012367443, 0.8224779713560528, 0.8214714300414527, 0.82093309077663], [0.8196282708234106, 0.8146608076938497, 0.8124793980847173, 0.8115401152633728, 0.8111189189033616], [0.8183213527761087, 0.812483356421091, 0.8098614167795987, 0.8085614406957782, 0.8077283613290098], [0.8158266305250592, 0.8097215272267979, 0.8070181733682597, 0.8056945199619979, 0.8050360590915699]]\n",
            "u5.base\n",
            "[[0.8295863385600891, 0.8243158012367443, 0.8224779713560528, 0.8214714300414527, 0.82093309077663], [0.8196282708234106, 0.8146608076938497, 0.8124793980847173, 0.8115401152633728, 0.8111189189033616], [0.8183213527761087, 0.812483356421091, 0.8098614167795987, 0.8085614406957782, 0.8077283613290098], [0.8158266305250592, 0.8097215272267979, 0.8070181733682597, 0.8056945199619979, 0.8050360590915699], [0.824626847036433, 0.8178808848988465, 0.8149306201000369, 0.8136411072889528, 0.8129158052424111]]\n"
          ]
        }
      ],
      "source": [
        "significance_error = []\n",
        "\n",
        "for file_num in range(len(TRAINING_FILES)):\n",
        "  TRAINING_FILE_PATH = 'ml-100k/' + TRAINING_FILES[file_num]\n",
        "  data = get_data(TRAINING_FILE_PATH)\n",
        "\n",
        "  item_matrix = get_matrix(data)\n",
        "  user_matrix = item_matrix.transpose()\n",
        "\n",
        "  corrated = calc_correlated(user_matrix)\n",
        "\n",
        "  significance_fold_error = []\n",
        "  significance_fold_predicted = []\n",
        "  actual_ratings = []\n",
        "  TEST_FILE_PATH = 'ml-100k/' + TESTING_FILES[file_num]\n",
        "  test_data = get_data(TEST_FILE_PATH)\n",
        "  for k in NEIGHBOUR_NUM:\n",
        "    for row in test_data:\n",
        "      significance_user_based_predicted = significance_predict_rating(int(row[0]), int(row[1]), user_similarity_folds[file_num], item_folds[file_num], k, corrated)\n",
        "      significance_fold_predicted.append(significance_user_based_predicted)\n",
        "      actual_ratings.append(float(row[2]))\n",
        "    significance_fold_error.append(mae(actual_ratings, significance_fold_predicted))\n",
        "  significance_error.append(significance_fold_error)\n",
        "  print(TRAINING_FILES[file_num])\n",
        "  print(significance_error)"
      ]
    }
  ],
  "metadata": {
    "colab": {
      "name": "IR-Project.ipynb",
      "provenance": [],
      "collapsed_sections": []
    },
    "kernelspec": {
      "display_name": "Python 3",
      "name": "python3"
    },
    "language_info": {
      "name": "python"
    }
  },
  "nbformat": 4,
  "nbformat_minor": 0
}